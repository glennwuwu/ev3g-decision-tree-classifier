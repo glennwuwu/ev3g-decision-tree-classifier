{
 "cells": [
  {
   "cell_type": "code",
   "execution_count": 1,
   "id": "2a90854e",
   "metadata": {},
   "outputs": [
    {
     "data": {
      "text/plain": [
       "'3.9.12 (main, Apr  4 2022, 05:22:27) [MSC v.1916 64 bit (AMD64)]'"
      ]
     },
     "execution_count": 1,
     "metadata": {},
     "output_type": "execute_result"
    }
   ],
   "source": [
    "import sys\n",
    "sys.version"
   ]
  },
  {
   "cell_type": "code",
   "execution_count": 2,
   "id": "e221b693",
   "metadata": {},
   "outputs": [],
   "source": [
    "import time\n",
    "import os\n",
    "import pandas as pd\n",
    "import numpy as np\n",
    "import sklearn\n",
    "import matplotlib.pyplot as plt\n",
    "import seaborn as sns"
   ]
  },
  {
   "cell_type": "code",
   "execution_count": 119,
   "id": "3a113143",
   "metadata": {},
   "outputs": [],
   "source": [
    "colors = {\n",
    "#     \"black\": 1,\n",
    "#     \"red\": 5,\n",
    "    \"green\": 3,\n",
    "#     \"yellow\": 4,\n",
    "    \"blue\": 2,\n",
    "#     \"nothing\": 0,\n",
    "#     \"white\": 6\n",
    "}"
   ]
  },
  {
   "cell_type": "code",
   "execution_count": 120,
   "id": "bbc478bf",
   "metadata": {},
   "outputs": [
    {
     "data": {
      "text/html": [
       "<div>\n",
       "<style scoped>\n",
       "    .dataframe tbody tr th:only-of-type {\n",
       "        vertical-align: middle;\n",
       "    }\n",
       "\n",
       "    .dataframe tbody tr th {\n",
       "        vertical-align: top;\n",
       "    }\n",
       "\n",
       "    .dataframe thead th {\n",
       "        text-align: right;\n",
       "    }\n",
       "</style>\n",
       "<table border=\"1\" class=\"dataframe\">\n",
       "  <thead>\n",
       "    <tr style=\"text-align: right;\">\n",
       "      <th></th>\n",
       "      <th>r</th>\n",
       "      <th>g</th>\n",
       "      <th>b</th>\n",
       "      <th>h</th>\n",
       "      <th>s</th>\n",
       "      <th>v</th>\n",
       "      <th>col</th>\n",
       "    </tr>\n",
       "  </thead>\n",
       "  <tbody>\n",
       "    <tr>\n",
       "      <th>0</th>\n",
       "      <td>63</td>\n",
       "      <td>91</td>\n",
       "      <td>72</td>\n",
       "      <td>139.2857</td>\n",
       "      <td>0.3077</td>\n",
       "      <td>91</td>\n",
       "      <td>3</td>\n",
       "    </tr>\n",
       "    <tr>\n",
       "      <th>1</th>\n",
       "      <td>64</td>\n",
       "      <td>93</td>\n",
       "      <td>73</td>\n",
       "      <td>138.6207</td>\n",
       "      <td>0.3118</td>\n",
       "      <td>93</td>\n",
       "      <td>3</td>\n",
       "    </tr>\n",
       "    <tr>\n",
       "      <th>2</th>\n",
       "      <td>59</td>\n",
       "      <td>89</td>\n",
       "      <td>70</td>\n",
       "      <td>142.0000</td>\n",
       "      <td>0.3371</td>\n",
       "      <td>89</td>\n",
       "      <td>3</td>\n",
       "    </tr>\n",
       "    <tr>\n",
       "      <th>3</th>\n",
       "      <td>61</td>\n",
       "      <td>91</td>\n",
       "      <td>71</td>\n",
       "      <td>140.0000</td>\n",
       "      <td>0.3297</td>\n",
       "      <td>91</td>\n",
       "      <td>3</td>\n",
       "    </tr>\n",
       "    <tr>\n",
       "      <th>4</th>\n",
       "      <td>60</td>\n",
       "      <td>92</td>\n",
       "      <td>72</td>\n",
       "      <td>142.5000</td>\n",
       "      <td>0.3478</td>\n",
       "      <td>92</td>\n",
       "      <td>3</td>\n",
       "    </tr>\n",
       "  </tbody>\n",
       "</table>\n",
       "</div>"
      ],
      "text/plain": [
       "    r   g   b         h       s   v  col\n",
       "0  63  91  72  139.2857  0.3077  91    3\n",
       "1  64  93  73  138.6207  0.3118  93    3\n",
       "2  59  89  70  142.0000  0.3371  89    3\n",
       "3  61  91  71  140.0000  0.3297  91    3\n",
       "4  60  92  72  142.5000  0.3478  92    3"
      ]
     },
     "execution_count": 120,
     "metadata": {},
     "output_type": "execute_result"
    }
   ],
   "source": [
    "y = pd.DataFrame()\n",
    "y[\"col\"] = []\n",
    "read_in_cols = []\n",
    "for i, (k, v) in enumerate(colors.items()):\n",
    "    read_in_cols.append(pd.read_csv(f\"input/{k}.rtf\"))\n",
    "    read_in_cols[i][\"col\"] = [v] * len(read_in_cols[i])\n",
    "    \n",
    "colors_dataset = pd.concat(read_in_cols)\n",
    "\n",
    "colors_dataset.head()"
   ]
  },
  {
   "cell_type": "code",
   "execution_count": 70,
   "id": "741f20c9",
   "metadata": {},
   "outputs": [
    {
     "name": "stdout",
     "output_type": "stream",
     "text": [
      "<class 'pandas.core.frame.DataFrame'>\n",
      "Int64Index: 5582 entries, 0 to 1325\n",
      "Data columns (total 7 columns):\n",
      " #   Column  Non-Null Count  Dtype  \n",
      "---  ------  --------------  -----  \n",
      " 0   r       5582 non-null   int64  \n",
      " 1    g      5582 non-null   int64  \n",
      " 2    b      5582 non-null   int64  \n",
      " 3    h      5582 non-null   float64\n",
      " 4    s      5582 non-null   float64\n",
      " 5    v      5582 non-null   int64  \n",
      " 6   col     5582 non-null   int64  \n",
      "dtypes: float64(2), int64(5)\n",
      "memory usage: 348.9 KB\n"
     ]
    }
   ],
   "source": [
    "colors_dataset.info()"
   ]
  },
  {
   "cell_type": "code",
   "execution_count": 71,
   "id": "9963132e",
   "metadata": {},
   "outputs": [],
   "source": [
    "import sklearn\n",
    "\n",
    "from sklearn.model_selection import train_test_split, GridSearchCV, RandomizedSearchCV, KFold, StratifiedKFold, cross_validate\n",
    "from sklearn.tree import DecisionTreeClassifier, _tree\n",
    "from sklearn.metrics import accuracy_score, classification_report"
   ]
  },
  {
   "cell_type": "code",
   "execution_count": 121,
   "id": "0d48e698",
   "metadata": {},
   "outputs": [],
   "source": [
    "df = colors_dataset\n",
    "eda_df = df.copy()"
   ]
  },
  {
   "cell_type": "code",
   "execution_count": 75,
   "id": "80afc853",
   "metadata": {},
   "outputs": [
    {
     "data": {
      "image/png": "[encoded data removed]",
      "text/plain": [
       "<Figure size 576x432 with 1 Axes>"
      ]
     },
     "metadata": {},
     "output_type": "display_data"
    }
   ],
   "source": [
    "sns.set()\n",
    "\n",
    "# Distribution of the target variable\n",
    "plt.figure(figsize=(8, 6))\n",
    "sns.countplot(x='col', data=eda_df)\n",
    "plt.title('Distribution of Colours')\n",
    "plt.show()"
   ]
  },
  {
   "cell_type": "code",
   "execution_count": 122,
   "id": "fe8405d4",
   "metadata": {},
   "outputs": [],
   "source": [
    "X = df.drop(columns=[\"r\", \" g\", \" b\", \"col\"])\n",
    "# X = df.drop(columns=[\" h\", \" s\", \" v\", \"col\"])\n",
    "# X = df.drop(columns=[\"col\"])\n",
    "y = df[\"col\"]"
   ]
  },
  {
   "cell_type": "code",
   "execution_count": 123,
   "id": "d383e38f",
   "metadata": {},
   "outputs": [],
   "source": [
    "X[\"vs\"] = [v*s for v, s in zip(X[\" v\"], X[\" s\"])]"
   ]
  },
  {
   "cell_type": "code",
   "execution_count": 124,
   "id": "c8f582e1",
   "metadata": {},
   "outputs": [
    {
     "data": {
      "text/html": [
       "<div>\n",
       "<style scoped>\n",
       "    .dataframe tbody tr th:only-of-type {\n",
       "        vertical-align: middle;\n",
       "    }\n",
       "\n",
       "    .dataframe tbody tr th {\n",
       "        vertical-align: top;\n",
       "    }\n",
       "\n",
       "    .dataframe thead th {\n",
       "        text-align: right;\n",
       "    }\n",
       "</style>\n",
       "<table border=\"1\" class=\"dataframe\">\n",
       "  <thead>\n",
       "    <tr style=\"text-align: right;\">\n",
       "      <th></th>\n",
       "      <th>h</th>\n",
       "      <th>s</th>\n",
       "      <th>v</th>\n",
       "      <th>vs</th>\n",
       "    </tr>\n",
       "  </thead>\n",
       "  <tbody>\n",
       "    <tr>\n",
       "      <th>0</th>\n",
       "      <td>139.2857</td>\n",
       "      <td>0.3077</td>\n",
       "      <td>91</td>\n",
       "      <td>28.0007</td>\n",
       "    </tr>\n",
       "    <tr>\n",
       "      <th>1</th>\n",
       "      <td>138.6207</td>\n",
       "      <td>0.3118</td>\n",
       "      <td>93</td>\n",
       "      <td>28.9974</td>\n",
       "    </tr>\n",
       "    <tr>\n",
       "      <th>2</th>\n",
       "      <td>142.0000</td>\n",
       "      <td>0.3371</td>\n",
       "      <td>89</td>\n",
       "      <td>30.0019</td>\n",
       "    </tr>\n",
       "    <tr>\n",
       "      <th>3</th>\n",
       "      <td>140.0000</td>\n",
       "      <td>0.3297</td>\n",
       "      <td>91</td>\n",
       "      <td>30.0027</td>\n",
       "    </tr>\n",
       "    <tr>\n",
       "      <th>4</th>\n",
       "      <td>142.5000</td>\n",
       "      <td>0.3478</td>\n",
       "      <td>92</td>\n",
       "      <td>31.9976</td>\n",
       "    </tr>\n",
       "  </tbody>\n",
       "</table>\n",
       "</div>"
      ],
      "text/plain": [
       "          h       s   v       vs\n",
       "0  139.2857  0.3077  91  28.0007\n",
       "1  138.6207  0.3118  93  28.9974\n",
       "2  142.0000  0.3371  89  30.0019\n",
       "3  140.0000  0.3297  91  30.0027\n",
       "4  142.5000  0.3478  92  31.9976"
      ]
     },
     "execution_count": 124,
     "metadata": {},
     "output_type": "execute_result"
    }
   ],
   "source": [
    "X.head()"
   ]
  },
  {
   "cell_type": "code",
   "execution_count": 125,
   "id": "c5ec756d",
   "metadata": {},
   "outputs": [],
   "source": [
    "X_train, X_test, y_train, y_test = train_test_split(X, y, test_size=0.2, random_state=42)"
   ]
  },
  {
   "cell_type": "code",
   "execution_count": 93,
   "id": "a321a166",
   "metadata": {},
   "outputs": [],
   "source": [
    "def tree_to_array(tree, feature_names, class_names):\n",
    "    tree_ = tree.tree_\n",
    "    feature_name = [\n",
    "        feature_names[i] if i != _tree.TREE_UNDEFINED else \"undefined!\"\n",
    "        for i in tree_.feature\n",
    "    ]\n",
    "    tree_array = [-1]*2**(dtc.get_params()['max_depth']+1)\n",
    "    def dtc_treeing(node, index):\n",
    "#         print(node)\n",
    "        if tree_.feature[node] != _tree.TREE_UNDEFINED:\n",
    "            name = feature_name[node]\n",
    "            if name ==  \"vs\":\n",
    "                extra = 6000\n",
    "            elif name == \"h\":\n",
    "                extra = 7000\n",
    "            elif name == \"s\":\n",
    "                extra = 8000\n",
    "            elif name == \"v\":\n",
    "                extra = 9000\n",
    "            else:\n",
    "                extra = 0\n",
    "            threshold = tree_.threshold[node]\n",
    "            value = threshold + extra\n",
    "            tree_array[index] = value\n",
    "            dtc_treeing(tree_.children_left[node], index*2+1)\n",
    "            dtc_treeing(tree_.children_right[node], index*2)\n",
    "        else:\n",
    "            tree_array[index] = int(class_names[int(tree_.value[node].argmax())]) + 5000\n",
    "    dtc_treeing(0, 1)\n",
    "    return tree_array\n",
    "#     print(f\"def tree({', '.join(feature_names)}):\")\n",
    "# tree_ = dtc.tree_\n",
    "\n",
    "# tree_.value[0].argmax():"
   ]
  },
  {
   "cell_type": "code",
   "execution_count": 91,
   "id": "49151eaa",
   "metadata": {},
   "outputs": [],
   "source": [
    "def DTC_Compare(node_value, h, s, v):\n",
    "    vs = v*s\n",
    "    res = False\n",
    "    to_compare = 0\n",
    "    extra = 0\n",
    "    if node_value >= 6000:\n",
    "        to_compare = vs\n",
    "        extra = 6000\n",
    "    if node_value >= 7000:\n",
    "        to_compare = h\n",
    "        extra = 7000\n",
    "    if node_value >= 8000:\n",
    "        to_compare = s\n",
    "        extra = 8000\n",
    "    if node_value >= 9000:\n",
    "        to_compare = v\n",
    "        extra = 9000\n",
    "    res = to_compare < (node_value-extra)\n",
    "            \n",
    "    if node_value >= 5000 and node_value <= 5006:\n",
    "        return (res, node_value - 5000)\n",
    "    else:\n",
    "        return (res, -1)\n",
    "    \n",
    "def DTC_Colores(h, s, v):\n",
    "    position = 1\n",
    "    while True:\n",
    "#         print(position)\n",
    "        node_value = tree_array[position]\n",
    "        if node_value == 0:\n",
    "            break\n",
    "        else:\n",
    "            (res, col) = DTC_Compare(node_value, h, s, v)\n",
    "            if col != -1:\n",
    "                break\n",
    "#             print(position)\n",
    "            position = position * 2 + (1 if res else 0)\n",
    "    return col"
   ]
  },
  {
   "cell_type": "code",
   "execution_count": 42,
   "id": "4287164a",
   "metadata": {},
   "outputs": [
    {
     "name": "stdout",
     "output_type": "stream",
     "text": [
      "Best Parameters:  {'criterion': 'entropy', 'max_depth': None, 'min_samples_leaf': 1, 'min_samples_split': 2}\n",
      "Best F1 Score: 0.92\n"
     ]
    }
   ],
   "source": [
    "param_grid = {\n",
    "    'criterion': ['gini', 'entropy'],\n",
    "    'max_depth': [None, 5, 10, 15, 20],\n",
    "    'min_samples_split': [2, 5, 10],\n",
    "    'min_samples_leaf': [1, 2, 4]\n",
    "}\n",
    "\n",
    "# Create a Decision Tree Classifier\n",
    "dtc = DecisionTreeClassifier(random_state=42)\n",
    "\n",
    "# Define the cross-validation strategy (Stratified K-Folds)\n",
    "stratified_kfold = StratifiedKFold(n_splits=5, shuffle=True, random_state=42)\n",
    "\n",
    "# Create GridSearchCV object with F1 scoring, stratified k-fold cross-validation, and the parameter grid\n",
    "grid_search = GridSearchCV(estimator=dtc, param_grid=param_grid, scoring='f1_macro', cv=stratified_kfold)\n",
    "\n",
    "# Perform the grid search on the data\n",
    "grid_search.fit(X, y)\n",
    "\n",
    "# Print the best parameters and corresponding F1 score\n",
    "print(\"Best Parameters: \", grid_search.best_params_)\n",
    "print(\"Best F1 Score: {:.2f}\".format(grid_search.best_score_))\n"
   ]
  },
  {
   "cell_type": "code",
   "execution_count": 138,
   "id": "fa6a1cc4",
   "metadata": {},
   "outputs": [
    {
     "name": "stdout",
     "output_type": "stream",
     "text": [
      "Accuracy: 100.00%\n",
      "Classification Report:\n",
      "              precision    recall  f1-score   support\n",
      "\n",
      "           2       1.00      1.00      1.00       265\n",
      "           3       1.00      1.00      1.00       311\n",
      "\n",
      "    accuracy                           1.00       576\n",
      "   macro avg       1.00      1.00      1.00       576\n",
      "weighted avg       1.00      1.00      1.00       576\n",
      "\n",
      "False\n",
      "False\n",
      "False\n",
      "False\n",
      "True\n",
      "True\n",
      "True\n",
      "False\n",
      "False\n",
      "False\n",
      "False\n",
      "False\n",
      "False\n",
      "False\n",
      "False\n",
      "False\n",
      "True\n",
      "True\n",
      "True\n",
      "True\n",
      "True\n",
      "True\n",
      "True\n",
      "True\n",
      "False\n",
      "False\n",
      "False\n",
      "False\n",
      "False\n",
      "False\n",
      "False\n",
      "test\n",
      "3\n",
      "Execution time: 0.003002643585205078 seconds\n"
     ]
    }
   ],
   "source": [
    "# HT\n",
    "dtc = DecisionTreeClassifier(**{'criterion': 'entropy', 'max_depth': 2, 'min_samples_leaf': 1, 'min_samples_split': 5}, random_state=42)\n",
    "\n",
    "# ## EV3\n",
    "# dtc = DecisionTreeClassifier(** {'criterion': 'entropy', 'max_depth': 10, 'min_samples_leaf': 1, 'min_samples_split': 2}, random_state=42)\n",
    "\n",
    "dtc.fit(X_train, y_train)\n",
    "\n",
    "predictions = dtc.predict(X_test)\n",
    "\n",
    "accuracy = accuracy_score(y_test, predictions)\n",
    "print(\"Accuracy: {:.2f}%\".format(accuracy * 100))\n",
    "\n",
    "print(\"Classification Report:\")\n",
    "print(classification_report(y_test, predictions))\n",
    "\n",
    "tree_array = tree_to_array(dtc, ['h', 's', 'v', 'vs'], [2, 3])\n",
    "\n",
    "st = time.time()\n",
    "\n",
    "tree_array.append(0)\n",
    "\n",
    "print(DTC_Colores(60, 0.1294, 255 ) == 6)\n",
    "print(DTC_Colores(42.2581, 0.7949, 234) == 4)\n",
    "print(DTC_Colores(4.2857, 0.56, 100 ) == 5)\n",
    "print(DTC_Colores(240, 0.25, 4) == 0)\n",
    "print(DTC_Colores(220.5882, 0.8718, 39 ) == 2)\n",
    "print(DTC_Colores(192, 0.3846, 13) == 3)\n",
    "print(DTC_Colores(141.5385, 0.4432, 88) == 3)\n",
    "print(DTC_Colores(200, 0.1364, 22 ) == 1)\n",
    "print(DTC_Colores(52.1739, 0.1729, 133 ) == 6)\n",
    "print(DTC_Colores(45.7143, 0.2165, 97 ) == 6)\n",
    "print(DTC_Colores(47.3684, 0.2184, 87 ) == 6)\n",
    "print(DTC_Colores(56.8421, 0.2235, 170 ) == 6)\n",
    "print(DTC_Colores(57.8571, 0.2044, 137 ) == 6)\n",
    "print(DTC_Colores(64.0909, 0.2222, 198 ) == 6)\n",
    "print(DTC_Colores(36, 0.1111, 45 ) == 6)\n",
    "print(DTC_Colores(60, 0.0513, 39 ) == 6)\n",
    "print(DTC_Colores(153.75, 0.2712, 59 ) == 3)\n",
    "print(DTC_Colores(142.1053, 0.2676, 71 ) == 3)\n",
    "print(DTC_Colores(147.1698, 0.8154, 65 ) == 3)\n",
    "print(DTC_Colores(165, 0.2105, 19) == 3)\n",
    "print(DTC_Colores(147.5, 0.8, 30 ) == 3)\n",
    "print(DTC_Colores(147.8571, 0.8235, 34 ) == 3)\n",
    "print(DTC_Colores(148.2353, 0.7391, 23 ) == 3)\n",
    "print(DTC_Colores(148.4211, 0.7917, 24 ) == 3)\n",
    "print(DTC_Colores(200, 0.6, 5 ) == 0)\n",
    "print(DTC_Colores(240, 0.3333, 3 ) == 0)\n",
    "print(DTC_Colores(180, 1, 1 ) == 0)\n",
    "print(DTC_Colores(210, 0.6667, 3 ) == 0)\n",
    "print(DTC_Colores(180, 0.5, 2 ) == 0)\n",
    "print(DTC_Colores(195, 0.6667, 6 ) == 0)\n",
    "print(DTC_Colores(240, 0.3333, 3 ) == 0)\n",
    "\n",
    "print(\"test\")\n",
    "print(DTC_Colores(8, 0.88, 76))\n",
    "\n",
    "\n",
    "\n",
    "\n",
    "\n",
    "et = time.time()\n",
    "\n",
    "elapsed_time = et - st\n",
    "print('Execution time:', elapsed_time, 'seconds')"
   ]
  },
  {
   "cell_type": "code",
   "execution_count": 131,
   "id": "bfb6ff27",
   "metadata": {},
   "outputs": [
    {
     "name": "stdout",
     "output_type": "stream",
     "text": [
      "Total Length: 8\n",
      "'Blank' Nodes: 2\n",
      "Comparison Nodes: 3\n",
      "Output Nodes: 3\n"
     ]
    }
   ],
   "source": [
    "print(f\"Total Length: {len(tree_array)}\")\n",
    "print(f\"'Blank' Nodes: {sum([x == -1 or x == 0 for x in tree_array])}\")\n",
    "print(f\"Comparison Nodes: {sum([x >= 6000 for x in tree_array])}\")\n",
    "print(f\"Output Nodes: {sum([x < 6000 and x >= 5000 for x in tree_array])}\")"
   ]
  },
  {
   "cell_type": "code",
   "execution_count": 139,
   "id": "4c23ea8b",
   "metadata": {},
   "outputs": [],
   "source": [
    "with open('output/dtc_bg.rtf', 'w') as file:\n",
    "    # Write list elements to the file\n",
    "    for item in tree_array:\n",
    "        file.write(str(item) + '\\n')  # Writes each item on a new line"
   ]
  },
  {
   "cell_type": "code",
   "execution_count": 140,
   "id": "751fe449",
   "metadata": {},
   "outputs": [
    {
     "data": {
      "image/png": "[encoded data removed]",
      "text/plain": [
       "<Figure size 1440x720 with 1 Axes>"
      ]
     },
     "metadata": {},
     "output_type": "display_data"
    }
   ],
   "source": [
    "from sklearn.tree import plot_tree\n",
    "\n",
    "fig, ax = plt.subplots(figsize=(20, 10))\n",
    "plot_tree(\n",
    "    dtc,\n",
    "    feature_names=X.columns,\n",
    "    impurity=False,\n",
    "    filled=True,\n",
    "    ax=ax,\n",
    "    fontsize=10,\n",
    ")\n",
    "plt.show()"
   ]
  },
  {
   "cell_type": "code",
   "execution_count": null,
   "id": "db412ea5",
   "metadata": {},
   "outputs": [],
   "source": []
  }
 ],
 "metadata": {
  "kernelspec": {
   "display_name": "Python 3 (ipykernel)",
   "language": "python",
   "name": "python3"
  },
  "language_info": {
   "codemirror_mode": {
    "name": "ipython",
    "version": 3
   },
   "file_extension": ".py",
   "mimetype": "text/x-python",
   "name": "python",
   "nbconvert_exporter": "python",
   "pygments_lexer": "ipython3",
   "version": "3.9.12"
  }
 },
 "nbformat": 4,
 "nbformat_minor": 5
}
